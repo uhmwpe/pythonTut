{
 "cells": [
  {
   "cell_type": "markdown",
   "metadata": {},
   "source": [
    "## Variable Names\n",
    "\n",
    "So here, we are going to take a look at what a variable is, and how to declare variable names. \n",
    "Variables typically come in one of two major subclasses, notably that of strings (letters and words) or numbers (integers, floats, doubles, etc.) More complex data structures can be made as an amalgamation of these things, but that will come later"
   ]
  },
  {
   "cell_type": "code",
   "execution_count": 9,
   "metadata": {
    "ExecuteTime": {
     "end_time": "2018-06-20T22:59:57.373366Z",
     "start_time": "2018-06-20T22:59:57.354615Z"
    }
   },
   "outputs": [
    {
     "name": "stdout",
     "output_type": "stream",
     "text": [
      "My name is Isaac and I am 21 years old and I am currently a Researcher\n",
      "True\n",
      "False\n"
     ]
    }
   ],
   "source": [
    "myName = \"Isaac\"\n",
    "myAge = 21\n",
    "occupation = \"Researcher\"\n",
    "#Equivavlent to myAge <- 21. Don't confuse with an actual equality\n",
    "\n",
    "print (\"My name is\", myName, \"and I am\", myAge, \"years old and I am currently a\", occupation)\n",
    "\n",
    "print(myAge == 21)\n",
    "print(myName == \"Alex\")"
   ]
  },
  {
   "cell_type": "markdown",
   "metadata": {},
   "source": [
    "### Reserved Words\n",
    "\n",
    "There are words that you can't use for variable names since they are reserved for the python interpreter. These words mean something completely different than a placeholder for whatever data you want to store within a variable. A list of those words would be\n",
    "\n",
    "False, class, return, is, finally, None, if, for, lambda, continue, True, def, from, while, nonlocal, and, del, global, not, with, as, elif, try, or, yield, assert, else, import, pass, break, except, in, raise"
   ]
  },
  {
   "cell_type": "markdown",
   "metadata": {},
   "source": [
    "### Naming Variables\n",
    "\n",
    "Must start with a letter or underscore ( _ )\n",
    "\n",
    "Must consist of letters, numbers, and underscores only\n",
    "\n",
    "Case sensitive"
   ]
  },
  {
   "cell_type": "code",
   "execution_count": 10,
   "metadata": {
    "ExecuteTime": {
     "end_time": "2018-06-20T23:02:24.735565Z",
     "start_time": "2018-06-20T23:02:24.726582Z"
    }
   },
   "outputs": [
    {
     "name": "stdout",
     "output_type": "stream",
     "text": [
      "21\n",
      "30\n"
     ]
    }
   ],
   "source": [
    "myage = 30\n",
    "print(myAge)\n",
    "print(myage)"
   ]
  },
  {
   "cell_type": "code",
   "execution_count": 11,
   "metadata": {
    "ExecuteTime": {
     "end_time": "2018-06-20T23:04:00.215800Z",
     "start_time": "2018-06-20T23:04:00.209752Z"
    }
   },
   "outputs": [
    {
     "name": "stdout",
     "output_type": "stream",
     "text": [
      "4\n"
     ]
    }
   ],
   "source": [
    "# Comments - Not read by interpreter/compiler\n",
    "x = 2 # assignment\n",
    "x = x + 2 # Operation\n",
    "print (x) # Print statement\n",
    "\n"
   ]
  },
  {
   "cell_type": "markdown",
   "metadata": {},
   "source": [
    "### Naming Variables Intelligently\n",
    "\n",
    "This is very underrated by truly important, for example, the next two pieces of code mean the same thing"
   ]
  },
  {
   "cell_type": "code",
   "execution_count": 12,
   "metadata": {
    "ExecuteTime": {
     "end_time": "2018-06-20T23:06:11.055546Z",
     "start_time": "2018-06-20T23:06:11.051682Z"
    }
   },
   "outputs": [
    {
     "name": "stdout",
     "output_type": "stream",
     "text": [
      "112.5\n"
     ]
    }
   ],
   "source": [
    "xaspdfoifh = 9.0\n",
    "xasdppoieu = 12.5\n",
    "xaspeoireu = xaspdfoifh * xasdppoieu\n",
    "print (xaspeoireu)"
   ]
  },
  {
   "cell_type": "code",
   "execution_count": 13,
   "metadata": {
    "ExecuteTime": {
     "end_time": "2018-06-20T23:06:39.863889Z",
     "start_time": "2018-06-20T23:06:39.855864Z"
    }
   },
   "outputs": [
    {
     "name": "stdout",
     "output_type": "stream",
     "text": [
      "112.5\n"
     ]
    }
   ],
   "source": [
    "rate = 9.0\n",
    "hours_worked = 12.5\n",
    "pay = rate * hours_worked\n",
    "print(pay)"
   ]
  },
  {
   "cell_type": "markdown",
   "metadata": {},
   "source": [
    "### Dealing with numbers"
   ]
  },
  {
   "cell_type": "code",
   "execution_count": 16,
   "metadata": {
    "ExecuteTime": {
     "end_time": "2018-06-20T23:12:22.486048Z",
     "start_time": "2018-06-20T23:12:22.475347Z"
    }
   },
   "outputs": [
    {
     "name": "stdout",
     "output_type": "stream",
     "text": [
      "add: 7\n",
      "subtract: 5\n",
      "multiply: 10\n",
      "divide: 5.0\n",
      "exponent: 25.0\n",
      "remainder or mod: 1.0\n"
     ]
    }
   ],
   "source": [
    "## Avaiable operators are +, -, *, /, **, %\n",
    "\n",
    "a = 5\n",
    "a = a+2\n",
    "print('add:', a)\n",
    "a = a-2\n",
    "print('subtract:', a)\n",
    "a = a*2\n",
    "print('multiply:', a)\n",
    "a = a/2\n",
    "print('divide:', a)\n",
    "a = a**2\n",
    "print('exponent:', a)\n",
    "a = a%2\n",
    "print('remainder or mod:', a)"
   ]
  },
  {
   "cell_type": "code",
   "execution_count": 19,
   "metadata": {
    "ExecuteTime": {
     "end_time": "2018-06-20T23:14:39.666156Z",
     "start_time": "2018-06-20T23:14:39.661544Z"
    }
   },
   "outputs": [
    {
     "name": "stdout",
     "output_type": "stream",
     "text": [
      "11.0\n"
     ]
    }
   ],
   "source": [
    "# Order of operations remain constant: PEMDAS or BEDMAS, then left to right\n",
    "\n",
    "x = 1 + 2 ** 3 / 4 * 5\n",
    "# x = 1 + 8 / 4 * 5\n",
    "# x = 1 + 2 * 5\n",
    "# x = 1 + 10\n",
    "# x = 11\n",
    "print(x)"
   ]
  },
  {
   "cell_type": "markdown",
   "metadata": {},
   "source": [
    "### Dealing with Strings or Words\n",
    "\n",
    "This is where different data types begin revealing their ultimate differences. The same operation  \"+\" does different things when dealing with strings than when it deals with numbers\n"
   ]
  },
  {
   "cell_type": "code",
   "execution_count": 22,
   "metadata": {
    "ExecuteTime": {
     "end_time": "2018-06-20T23:16:06.205963Z",
     "start_time": "2018-06-20T23:16:06.202250Z"
    }
   },
   "outputs": [
    {
     "name": "stdout",
     "output_type": "stream",
     "text": [
      "Isaac Chan\n"
     ]
    }
   ],
   "source": [
    "# Concatenation\n",
    "firstName = \"Isaac\"\n",
    "lastName = \"Chan\"\n",
    "fullName = firstName + \" \" + lastName\n",
    "print(fullName)"
   ]
  },
  {
   "cell_type": "code",
   "execution_count": 23,
   "metadata": {
    "ExecuteTime": {
     "end_time": "2018-06-20T23:18:02.972450Z",
     "start_time": "2018-06-20T23:18:02.932681Z"
    }
   },
   "outputs": [
    {
     "ename": "TypeError",
     "evalue": "must be str, not int",
     "output_type": "error",
     "traceback": [
      "\u001b[0;31m---------------------------------------------------------------------------\u001b[0m",
      "\u001b[0;31mTypeError\u001b[0m                                 Traceback (most recent call last)",
      "\u001b[0;32m<ipython-input-23-f92e5d33f0cb>\u001b[0m in \u001b[0;36m<module>\u001b[0;34m()\u001b[0m\n\u001b[1;32m      2\u001b[0m \u001b[0mfirstName\u001b[0m \u001b[0;34m=\u001b[0m \u001b[0;34m\"Isaac\"\u001b[0m\u001b[0;34m\u001b[0m\u001b[0m\n\u001b[1;32m      3\u001b[0m \u001b[0mnumber\u001b[0m \u001b[0;34m=\u001b[0m \u001b[0;36m5\u001b[0m\u001b[0;34m\u001b[0m\u001b[0m\n\u001b[0;32m----> 4\u001b[0;31m \u001b[0merrorVar\u001b[0m \u001b[0;34m=\u001b[0m \u001b[0mfirstName\u001b[0m \u001b[0;34m+\u001b[0m \u001b[0mnumber\u001b[0m\u001b[0;34m\u001b[0m\u001b[0m\n\u001b[0m",
      "\u001b[0;31mTypeError\u001b[0m: must be str, not int"
     ]
    }
   ],
   "source": [
    "# Can't mix both\n",
    "firstName = \"Isaac\"\n",
    "number = 5\n",
    "errorVar = firstName + number"
   ]
  },
  {
   "cell_type": "code",
   "execution_count": 24,
   "metadata": {
    "ExecuteTime": {
     "end_time": "2018-06-20T23:18:21.470685Z",
     "start_time": "2018-06-20T23:18:21.460635Z"
    }
   },
   "outputs": [
    {
     "ename": "TypeError",
     "evalue": "must be str, not int",
     "output_type": "error",
     "traceback": [
      "\u001b[0;31m---------------------------------------------------------------------------\u001b[0m",
      "\u001b[0;31mTypeError\u001b[0m                                 Traceback (most recent call last)",
      "\u001b[0;32m<ipython-input-24-d2d1ba68fa0f>\u001b[0m in \u001b[0;36m<module>\u001b[0;34m()\u001b[0m\n\u001b[1;32m      1\u001b[0m \u001b[0mx\u001b[0m \u001b[0;34m=\u001b[0m \u001b[0;34m\"5\"\u001b[0m\u001b[0;34m\u001b[0m\u001b[0m\n\u001b[1;32m      2\u001b[0m \u001b[0my\u001b[0m \u001b[0;34m=\u001b[0m \u001b[0;36m5\u001b[0m\u001b[0;34m\u001b[0m\u001b[0m\n\u001b[0;32m----> 3\u001b[0;31m \u001b[0mz\u001b[0m \u001b[0;34m=\u001b[0m \u001b[0mx\u001b[0m \u001b[0;34m+\u001b[0m \u001b[0my\u001b[0m\u001b[0;34m\u001b[0m\u001b[0m\n\u001b[0m",
      "\u001b[0;31mTypeError\u001b[0m: must be str, not int"
     ]
    }
   ],
   "source": [
    "x = \"5\"\n",
    "y = 5\n",
    "z = x + y"
   ]
  },
  {
   "cell_type": "code",
   "execution_count": 27,
   "metadata": {
    "ExecuteTime": {
     "end_time": "2018-06-20T23:18:46.156314Z",
     "start_time": "2018-06-20T23:18:46.148153Z"
    }
   },
   "outputs": [
    {
     "name": "stdout",
     "output_type": "stream",
     "text": [
      "10\n"
     ]
    }
   ],
   "source": [
    "x = \"5\"\n",
    "y = 5\n",
    "z = int(x) + y\n",
    "print(z)"
   ]
  },
  {
   "cell_type": "code",
   "execution_count": 29,
   "metadata": {
    "ExecuteTime": {
     "end_time": "2018-06-20T23:19:20.592349Z",
     "start_time": "2018-06-20T23:19:20.572909Z"
    }
   },
   "outputs": [
    {
     "ename": "ValueError",
     "evalue": "invalid literal for int() with base 10: 'Isaac'",
     "output_type": "error",
     "traceback": [
      "\u001b[0;31m---------------------------------------------------------------------------\u001b[0m",
      "\u001b[0;31mValueError\u001b[0m                                Traceback (most recent call last)",
      "\u001b[0;32m<ipython-input-29-7ac1c16702b5>\u001b[0m in \u001b[0;36m<module>\u001b[0;34m()\u001b[0m\n\u001b[1;32m      1\u001b[0m \u001b[0mfirstName\u001b[0m \u001b[0;34m=\u001b[0m \u001b[0;34m\"Isaac\"\u001b[0m\u001b[0;34m\u001b[0m\u001b[0m\n\u001b[1;32m      2\u001b[0m \u001b[0mnumber\u001b[0m \u001b[0;34m=\u001b[0m \u001b[0;36m5\u001b[0m\u001b[0;34m\u001b[0m\u001b[0m\n\u001b[0;32m----> 3\u001b[0;31m \u001b[0merrorVar\u001b[0m \u001b[0;34m=\u001b[0m \u001b[0mint\u001b[0m\u001b[0;34m(\u001b[0m\u001b[0mfirstName\u001b[0m\u001b[0;34m)\u001b[0m \u001b[0;34m+\u001b[0m \u001b[0mnumber\u001b[0m\u001b[0;34m\u001b[0m\u001b[0m\n\u001b[0m\u001b[1;32m      4\u001b[0m \u001b[0mprint\u001b[0m\u001b[0;34m(\u001b[0m\u001b[0merrorVar\u001b[0m\u001b[0;34m)\u001b[0m\u001b[0;34m\u001b[0m\u001b[0m\n",
      "\u001b[0;31mValueError\u001b[0m: invalid literal for int() with base 10: 'Isaac'"
     ]
    }
   ],
   "source": [
    "firstName = \"Isaac\"\n",
    "number = 5\n",
    "errorVar = int(firstName) + number\n",
    "print(errorVar)"
   ]
  },
  {
   "cell_type": "code",
   "execution_count": 33,
   "metadata": {
    "ExecuteTime": {
     "end_time": "2018-06-20T23:20:38.862350Z",
     "start_time": "2018-06-20T23:20:38.848090Z"
    }
   },
   "outputs": [
    {
     "name": "stdout",
     "output_type": "stream",
     "text": [
      "<class 'int'>\n",
      "<class 'str'>\n",
      "<class 'float'>\n"
     ]
    }
   ],
   "source": [
    "# You can always check the types of your variables by doing something really simple\n",
    "print(type(number))\n",
    "print(type(firstName))\n",
    "a = 9.0\n",
    "print(type(a))\n",
    "\n",
    "#DON'T USE FLOATING POINT FOR MONEY (office space)"
   ]
  },
  {
   "cell_type": "markdown",
   "metadata": {},
   "source": [
    "## Converting User Input\n",
    "\n",
    "Let's make our own USD to HKD converter!"
   ]
  },
  {
   "cell_type": "code",
   "execution_count": 36,
   "metadata": {
    "ExecuteTime": {
     "end_time": "2018-06-20T23:25:52.883106Z",
     "start_time": "2018-06-20T23:25:51.122438Z"
    }
   },
   "outputs": [
    {
     "name": "stdout",
     "output_type": "stream",
     "text": [
      "USD amount: 15\n",
      "The equivalent amount of USD$ 15.0 is: 1.9230769230769231\n"
     ]
    }
   ],
   "source": [
    "\n",
    "\n",
    "inp = input(\"USD amount: \")\n",
    "inp = float(inp)\n",
    "print('The equivalent amount of USD$', inp, 'is:', inp / 7.8)"
   ]
  },
  {
   "cell_type": "markdown",
   "metadata": {},
   "source": [
    "## Conditionals\n",
    "\n",
    "Here's where we begin actually coding and using some programming logic to give us the results we want! We begin with the if statement"
   ]
  },
  {
   "cell_type": "code",
   "execution_count": 42,
   "metadata": {
    "ExecuteTime": {
     "end_time": "2018-06-21T00:11:48.336776Z",
     "start_time": "2018-06-21T00:11:46.767119Z"
    }
   },
   "outputs": [
    {
     "name": "stdout",
     "output_type": "stream",
     "text": [
      "Input a number: 15\n",
      "15.0\n",
      "larger\n"
     ]
    }
   ],
   "source": [
    "x = input(\"Input a number: \")\n",
    "x = float(x)\n",
    "print(x)\n",
    "if (x < 10):\n",
    "    print('smaller')\n",
    "if (x > 10): \n",
    "    print('larger')\n",
    "if (x == 10):\n",
    "    print('equals')"
   ]
  },
  {
   "cell_type": "markdown",
   "metadata": {},
   "source": [
    "### Comparison Operators\n",
    "\n",
    "So there are a number of comparison operators that we can use inside if statements. We'll demonstrate them below"
   ]
  },
  {
   "cell_type": "code",
   "execution_count": 43,
   "metadata": {
    "ExecuteTime": {
     "end_time": "2018-06-21T00:14:28.582106Z",
     "start_time": "2018-06-21T00:14:24.651322Z"
    }
   },
   "outputs": [
    {
     "name": "stdout",
     "output_type": "stream",
     "text": [
      "Input a number: 10\n",
      "10.0\n",
      "less than or equal to\n",
      "greater or equal to\n"
     ]
    }
   ],
   "source": [
    "x = input(\"Input a number: \")\n",
    "x = float(x)\n",
    "print(x)\n",
    "if (x <= 10):\n",
    "    print('less than or equal to')\n",
    "if (x >= 10):\n",
    "    print('greater or equal to')\n",
    "if (x != 10):\n",
    "    print('not equal to')"
   ]
  },
  {
   "cell_type": "code",
   "execution_count": 44,
   "metadata": {
    "ExecuteTime": {
     "end_time": "2018-06-21T00:16:43.209704Z",
     "start_time": "2018-06-21T00:16:43.200972Z"
    }
   },
   "outputs": [
    {
     "name": "stdout",
     "output_type": "stream",
     "text": [
      "condition = true\n"
     ]
    }
   ],
   "source": [
    "#General format\n",
    "condition1 = True\n",
    "if (condition1 == True):\n",
    "    print('condition = true')\n",
    "    # Everything that is indented will only run if the if statement is True\n",
    "elif (condition1 == False):\n",
    "    print('condition = false')\n",
    "    # Everything here will only run if the original if condition is false, and the elif condition is true\n",
    "else: \n",
    "    print('if both the above conditions are false')"
   ]
  },
  {
   "cell_type": "markdown",
   "metadata": {},
   "source": [
    "### Tabs\n",
    "\n",
    "An important thing to note is that many text editors such as gedit will give you the option to use spaces or tabs. It is VERY important that you turn off tabs and instead opt for spaces. Otherwise, you will get indent errors when trying to run your conditional statements and function declarations (more on this later). "
   ]
  },
  {
   "cell_type": "markdown",
   "metadata": {},
   "source": [
    "### Wrapup example of if statements\n"
   ]
  },
  {
   "cell_type": "code",
   "execution_count": 46,
   "metadata": {
    "ExecuteTime": {
     "end_time": "2018-06-21T00:21:10.482630Z",
     "start_time": "2018-06-21T00:21:08.504812Z"
    }
   },
   "outputs": [
    {
     "name": "stdout",
     "output_type": "stream",
     "text": [
      "Insert a number here: 10\n",
      "x is less than 11 but greater than 5\n"
     ]
    }
   ],
   "source": [
    "x = input(\"Insert a number here: \")\n",
    "x = float(x)\n",
    "\n",
    "if (x > 5):\n",
    "    if (x > 13):\n",
    "        print('x is greater than 13')\n",
    "    elif (x > 11):    \n",
    "        print('x is greater than 11')\n",
    "    else: \n",
    "        print('x is less than or equal to 11 but greater than 5')\n",
    "else: \n",
    "    print('x is less than or equal to 5')"
   ]
  },
  {
   "cell_type": "markdown",
   "metadata": {},
   "source": [
    "### Try and except structure\n",
    "\n",
    "Sometimes, there is code that is \"dangerous\" or prone to errors. Often, we would like this code to run, but we would like there to be some contingency code in the event that the original code results in a failure mode. We call this method the try and except structure"
   ]
  },
  {
   "cell_type": "code",
   "execution_count": 48,
   "metadata": {
    "ExecuteTime": {
     "end_time": "2018-06-21T00:24:52.686454Z",
     "start_time": "2018-06-21T00:24:51.061554Z"
    }
   },
   "outputs": [
    {
     "name": "stdout",
     "output_type": "stream",
     "text": [
      "Insert a number here: 5\n",
      "x is less than 5\n"
     ]
    }
   ],
   "source": [
    "x = input(\"Insert a number here: \")\n",
    "\n",
    "try:\n",
    "    x = float(x)\n",
    "\n",
    "    if (x > 5):\n",
    "        if (x > 13):\n",
    "            print('x is greater than 13')\n",
    "        elif (x > 11):    \n",
    "            print('x is greater than 11')\n",
    "        else: \n",
    "            print('x is less than or equal to 11 but greater than 5')\n",
    "    else: \n",
    "        print('x is less than or equal to 5')\n",
    "except:\n",
    "    print('Invalid input, please input a number')"
   ]
  },
  {
   "cell_type": "markdown",
   "metadata": {},
   "source": [
    "## Loops and Iterations\n",
    "\n",
    "This is where the true power of programming comes in. This is where we allow programs to do a single task many times repetitively, something that people don't want to do. "
   ]
  },
  {
   "cell_type": "code",
   "execution_count": 6,
   "metadata": {
    "ExecuteTime": {
     "end_time": "2018-06-21T00:45:25.236186Z",
     "start_time": "2018-06-21T00:45:25.227185Z"
    }
   },
   "outputs": [
    {
     "name": "stdout",
     "output_type": "stream",
     "text": [
      "0\n",
      "1\n",
      "2\n",
      "3\n",
      "4\n"
     ]
    }
   ],
   "source": [
    "# Two main keywords: for and while\n",
    "i = 0\n",
    "for i in range(5):\n",
    "    print(i)\n",
    "    i = i + 1"
   ]
  },
  {
   "cell_type": "code",
   "execution_count": 5,
   "metadata": {
    "ExecuteTime": {
     "end_time": "2018-06-21T00:45:14.752272Z",
     "start_time": "2018-06-21T00:45:14.746024Z"
    }
   },
   "outputs": [
    {
     "name": "stdout",
     "output_type": "stream",
     "text": [
      "0\n",
      "1\n",
      "2\n",
      "3\n",
      "4\n"
     ]
    }
   ],
   "source": [
    "i = 50\n",
    "for i in range(0,5):\n",
    "    print(i)"
   ]
  },
  {
   "cell_type": "code",
   "execution_count": 5,
   "metadata": {
    "ExecuteTime": {
     "end_time": "2018-06-21T00:34:49.201302Z",
     "start_time": "2018-06-21T00:34:47.518651Z"
    }
   },
   "outputs": [
    {
     "name": "stdout",
     "output_type": "stream",
     "text": [
      "Input an integer35.2\n"
     ]
    },
    {
     "ename": "ValueError",
     "evalue": "You did not input a integer",
     "output_type": "error",
     "traceback": [
      "\u001b[0;31m---------------------------------------------------------------------------\u001b[0m",
      "\u001b[0;31mValueError\u001b[0m                                Traceback (most recent call last)",
      "\u001b[0;32m<ipython-input-5-bff5b8312839>\u001b[0m in \u001b[0;36m<module>\u001b[0;34m()\u001b[0m\n\u001b[1;32m      3\u001b[0m \u001b[0;32mtry\u001b[0m\u001b[0;34m:\u001b[0m\u001b[0;34m\u001b[0m\u001b[0m\n\u001b[0;32m----> 4\u001b[0;31m     \u001b[0mx\u001b[0m \u001b[0;34m=\u001b[0m \u001b[0mint\u001b[0m\u001b[0;34m(\u001b[0m\u001b[0mx\u001b[0m\u001b[0;34m)\u001b[0m\u001b[0;34m\u001b[0m\u001b[0m\n\u001b[0m\u001b[1;32m      5\u001b[0m     \u001b[0;32mfor\u001b[0m \u001b[0mi\u001b[0m \u001b[0;32min\u001b[0m \u001b[0mrange\u001b[0m\u001b[0;34m(\u001b[0m\u001b[0;36m1\u001b[0m\u001b[0;34m,\u001b[0m\u001b[0mx\u001b[0m\u001b[0;34m)\u001b[0m\u001b[0;34m:\u001b[0m\u001b[0;34m\u001b[0m\u001b[0m\n",
      "\u001b[0;31mValueError\u001b[0m: invalid literal for int() with base 10: '35.2'",
      "\nDuring handling of the above exception, another exception occurred:\n",
      "\u001b[0;31mValueError\u001b[0m                                Traceback (most recent call last)",
      "\u001b[0;32m<ipython-input-5-bff5b8312839>\u001b[0m in \u001b[0;36m<module>\u001b[0;34m()\u001b[0m\n\u001b[1;32m      7\u001b[0m     \u001b[0mprint\u001b[0m\u001b[0;34m(\u001b[0m\u001b[0mx\u001b[0m\u001b[0;34m)\u001b[0m\u001b[0;34m\u001b[0m\u001b[0m\n\u001b[1;32m      8\u001b[0m \u001b[0;32mexcept\u001b[0m\u001b[0;34m:\u001b[0m\u001b[0;34m\u001b[0m\u001b[0m\n\u001b[0;32m----> 9\u001b[0;31m     \u001b[0;32mraise\u001b[0m \u001b[0mValueError\u001b[0m\u001b[0;34m(\u001b[0m\u001b[0;34m'You did not input a integer'\u001b[0m\u001b[0;34m)\u001b[0m\u001b[0;34m\u001b[0m\u001b[0m\n\u001b[0m\u001b[1;32m     10\u001b[0m \u001b[0;34m\u001b[0m\u001b[0m\n\u001b[1;32m     11\u001b[0m \u001b[0;34m\u001b[0m\u001b[0m\n",
      "\u001b[0;31mValueError\u001b[0m: You did not input a integer"
     ]
    }
   ],
   "source": [
    "# Let's compute a factorial\n",
    "x = input(\"Input an integer\")\n",
    "try:\n",
    "    x = int(x)\n",
    "    for i in range(1,x):\n",
    "        x = x * i\n",
    "    print(x)\n",
    "except:\n",
    "    raise ValueError('You did not input a integer')\n",
    "\n",
    "    "
   ]
  },
  {
   "cell_type": "markdown",
   "metadata": {},
   "source": [
    "### A different iterative structure: the while loop\n",
    "\n",
    "This structure works by having a statement where it only continues running while the conditional term on the inside remains true. We'll repeat the factorial calculation here with the while loop\n"
   ]
  },
  {
   "cell_type": "code",
   "execution_count": 6,
   "metadata": {
    "ExecuteTime": {
     "end_time": "2018-06-21T00:38:25.633486Z",
     "start_time": "2018-06-21T00:38:24.656391Z"
    }
   },
   "outputs": [
    {
     "name": "stdout",
     "output_type": "stream",
     "text": [
      "Input an integer5\n",
      "120\n"
     ]
    }
   ],
   "source": [
    "x = input(\"Input an integer\")\n",
    "try:\n",
    "    x = int(x)\n",
    "    fact = 1\n",
    "    while (x>1):\n",
    "        fact = x*fact\n",
    "        x = x-1\n",
    "    print(fact)\n",
    "except:\n",
    "    raise ValueError('You did not input a integer')"
   ]
  },
  {
   "cell_type": "markdown",
   "metadata": {},
   "source": [
    "### A Big Warning: The Infinite Loop\n",
    "\n",
    "The infinite loop is a while loop that never reaches it's termination condition. Your interpreter might not raise an error and your program will keep running forever. There are certain scenarios in which this may be desirable, such as a sensor on a car that continually reads and transmits their signal underr the power of the car is turned off. But make sure to keep an eye out for those. An example is shown below\n"
   ]
  },
  {
   "cell_type": "code",
   "execution_count": null,
   "metadata": {
    "ExecuteTime": {
     "start_time": "2018-06-21T00:42:37.523Z"
    }
   },
   "outputs": [],
   "source": [
    "# Infinite loop\n",
    "n = 2\n",
    "while (n > 1):\n",
    "    n = n + 1 #The loop will never terminate since the above condition will never be violated\n",
    "    # So this code will continue running unless a user manually terminates it\n",
    "    "
   ]
  },
  {
   "cell_type": "markdown",
   "metadata": {},
   "source": [
    "### Breaking and continuing \n",
    "\n",
    "Sometimes, if certain conditions are met inside a for loop, you might want it to continue to the next iteration, or stop looping entirely.  Continue and break are the 2 operations that allow you to do this. Examples are shown below:\n"
   ]
  },
  {
   "cell_type": "code",
   "execution_count": 3,
   "metadata": {
    "ExecuteTime": {
     "end_time": "2018-06-21T00:44:51.857219Z",
     "start_time": "2018-06-21T00:44:51.844828Z"
    }
   },
   "outputs": [
    {
     "name": "stdout",
     "output_type": "stream",
     "text": [
      "0\n",
      "1\n",
      "2\n",
      "4\n"
     ]
    }
   ],
   "source": [
    "# Continue example\n",
    "for i in range(0,5):\n",
    "    if (i == 3):\n",
    "        continue\n",
    "    print(i)\n",
    "\n",
    "        "
   ]
  },
  {
   "cell_type": "code",
   "execution_count": 7,
   "metadata": {
    "ExecuteTime": {
     "end_time": "2018-06-21T00:45:51.049483Z",
     "start_time": "2018-06-21T00:45:51.042356Z"
    }
   },
   "outputs": [
    {
     "name": "stdout",
     "output_type": "stream",
     "text": [
      "0\n",
      "1\n",
      "2\n"
     ]
    }
   ],
   "source": [
    "# Break example\n",
    "for i in range(0,5):\n",
    "    if (i == 3):\n",
    "        break\n",
    "    print(i)"
   ]
  },
  {
   "cell_type": "markdown",
   "metadata": {},
   "source": [
    "## For Next Time (Or if we have time this week)\n",
    "\n",
    "Definite Loops, Loop applications (finding max value in list, loop idioms and good practices), Functions, Classes and an introduction to object oriented programming. "
   ]
  },
  {
   "cell_type": "code",
   "execution_count": null,
   "metadata": {},
   "outputs": [],
   "source": []
  }
 ],
 "metadata": {
  "kernelspec": {
   "display_name": "Python 3",
   "language": "python",
   "name": "python3"
  },
  "language_info": {
   "codemirror_mode": {
    "name": "ipython",
    "version": 3
   },
   "file_extension": ".py",
   "mimetype": "text/x-python",
   "name": "python",
   "nbconvert_exporter": "python",
   "pygments_lexer": "ipython3",
   "version": "3.6.4"
  },
  "latex_envs": {
   "LaTeX_envs_menu_present": true,
   "autoclose": false,
   "autocomplete": true,
   "bibliofile": "biblio.bib",
   "cite_by": "apalike",
   "current_citInitial": 1,
   "eqLabelWithNumbers": true,
   "eqNumInitial": 1,
   "hotkeys": {
    "equation": "Ctrl-E",
    "itemize": "Ctrl-I"
   },
   "labels_anchors": false,
   "latex_user_defs": false,
   "report_style_numbering": false,
   "user_envs_cfg": false
  },
  "toc": {
   "nav_menu": {},
   "number_sections": true,
   "sideBar": true,
   "skip_h1_title": false,
   "title_cell": "Table of Contents",
   "title_sidebar": "Contents",
   "toc_cell": false,
   "toc_position": {},
   "toc_section_display": true,
   "toc_window_display": false
  }
 },
 "nbformat": 4,
 "nbformat_minor": 2
}
